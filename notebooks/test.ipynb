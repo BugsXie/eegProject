{
 "cells": [
  {
   "cell_type": "code",
   "execution_count": 12,
   "outputs": [],
   "source": [
    "folders = [r'D:\\PycharmProjects\\eegProject\\data\\Test_EEG\\HC',\n",
    "           r'D:\\PycharmProjects\\eegProject\\data\\Test_EEG\\MDD',\n",
    "           r'D:\\PycharmProjects\\eegProject\\data\\Test_EEG\\BD']\n",
    "class_names = ['HC', 'MDD', 'BD']"
   ],
   "metadata": {
    "collapsed": false,
    "ExecuteTime": {
     "end_time": "2023-07-06T13:07:01.320025800Z",
     "start_time": "2023-07-06T13:07:01.299828600Z"
    }
   }
  },
  {
   "cell_type": "code",
   "execution_count": 13,
   "outputs": [
    {
     "name": "stdout",
     "output_type": "stream",
     "text": [
      "D:\\PycharmProjects\\eegProject\\data\\Test_EEG\\HC\n",
      "D:\\PycharmProjects\\eegProject\\data\\Test_EEG\\MDD\n",
      "D:\\PycharmProjects\\eegProject\\data\\Test_EEG\\BD\n"
     ]
    }
   ],
   "source": [
    "for folder, class_name in zip(folders, class_names):\n",
    "    print(folder)"
   ],
   "metadata": {
    "collapsed": false,
    "ExecuteTime": {
     "end_time": "2023-07-06T13:07:02.035175200Z",
     "start_time": "2023-07-06T13:07:02.030192500Z"
    }
   }
  },
  {
   "cell_type": "code",
   "execution_count": null,
   "outputs": [],
   "source": [],
   "metadata": {
    "collapsed": false
   }
  }
 ],
 "metadata": {
  "kernelspec": {
   "display_name": "Python 3",
   "language": "python",
   "name": "python3"
  },
  "language_info": {
   "codemirror_mode": {
    "name": "ipython",
    "version": 2
   },
   "file_extension": ".py",
   "mimetype": "text/x-python",
   "name": "python",
   "nbconvert_exporter": "python",
   "pygments_lexer": "ipython2",
   "version": "2.7.6"
  }
 },
 "nbformat": 4,
 "nbformat_minor": 0
}
