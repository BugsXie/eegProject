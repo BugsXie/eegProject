{
 "cells": [
  {
   "cell_type": "code",
   "execution_count": 14,
   "outputs": [],
   "source": [
    "import os\n",
    "\n",
    "import numpy as np\n",
    "import pandas as pd"
   ],
   "metadata": {
    "collapsed": false,
    "ExecuteTime": {
     "end_time": "2023-07-24T06:30:20.853079200Z",
     "start_time": "2023-07-24T06:30:20.848072400Z"
    }
   }
  },
  {
   "cell_type": "code",
   "execution_count": 15,
   "outputs": [],
   "source": [
    "def merge_csv_files(input_dir, group_size=10):\n",
    "    csv_files = [file for file in os.listdir(input_dir) if file.endswith(\".csv\")]\n",
    "\n",
    "    grouped_files = [\n",
    "        csv_files[i : i + group_size] for i in range(0, len(csv_files), group_size)\n",
    "    ]\n",
    "\n",
    "    data = []\n",
    "    label = []\n",
    "\n",
    "    for group_idx, group in enumerate(grouped_files):\n",
    "        group_data = []\n",
    "\n",
    "        for csv_file in group:\n",
    "            file_path = os.path.join(input_dir, csv_file)\n",
    "            df = pd.read_csv(file_path, header=None)\n",
    "            pure_data = df.iloc[1:, 1:-1]\n",
    "            group_data.append(pure_data.to_numpy(dtype=np.float64).flatten())\n",
    "\n",
    "        group_data = np.array(group_data, dtype=np.float64)\n",
    "        group_label = int(df.iloc[1, -1])\n",
    "        label.append(group_label)\n",
    "        data.append(group_data)\n",
    "\n",
    "    return np.array(data), np.array(label)"
   ],
   "metadata": {
    "collapsed": false,
    "ExecuteTime": {
     "end_time": "2023-07-24T06:30:21.444115600Z",
     "start_time": "2023-07-24T06:30:21.426776Z"
    }
   }
  },
  {
   "cell_type": "code",
   "execution_count": 16,
   "outputs": [],
   "source": [
    "input_directory = \"../data/extract_data/train\"\n",
    "data_set = merge_csv_files(input_directory)"
   ],
   "metadata": {
    "collapsed": false,
    "ExecuteTime": {
     "end_time": "2023-07-24T06:30:24.514298Z",
     "start_time": "2023-07-24T06:30:22.634062100Z"
    }
   }
  },
  {
   "cell_type": "code",
   "execution_count": 17,
   "outputs": [
    {
     "name": "stdout",
     "output_type": "stream",
     "text": [
      "(array([[ 2.09593267e-02, -4.40622393e-02,  3.90724271e-02, ...,\n",
      "         2.22057390e+01,  1.34418373e+01,  8.91704893e-01],\n",
      "       [ 2.09593267e-02, -4.40622393e-02,  3.90724271e-02, ...,\n",
      "         1.55735700e+01,  1.44960510e+01,  8.47700658e-01],\n",
      "       [ 2.09593267e-02, -4.40622393e-02,  3.90724271e-02, ...,\n",
      "         2.11904688e+01,  3.93531051e+01,  1.52913401e+01],\n",
      "       ...,\n",
      "       [ 2.09593267e-02, -4.40622393e-02,  3.90724271e-02, ...,\n",
      "         1.53611964e+01,  1.45035912e+01,  9.07623465e-01],\n",
      "       [ 2.09593267e-02, -4.40622393e-02,  3.90724271e-02, ...,\n",
      "         1.20501661e+01,  1.06987263e+01,  9.29422862e-01],\n",
      "       [ 2.09593267e-02, -4.40622393e-02,  3.90724271e-02, ...,\n",
      "         6.01540068e+00,  1.14114000e+01,  2.69397181e+00]]), 2)\n"
     ]
    }
   ],
   "source": [
    "from torch.utils.data import Dataset\n",
    "import torch\n",
    "\n",
    "class CostumDataset(Dataset):\n",
    "    def __init__(self, file_path, transform=None):\n",
    "        self.data, self.labels = merge_csv_files(file_path)\n",
    "        self.transform = transform\n",
    "\n",
    "    def __len__(self):\n",
    "        return len(self.labels)\n",
    "\n",
    "    def __getitem__(self, idx):\n",
    "        if torch.is_tensor(idx):\n",
    "            idx = idx.tolist()\n",
    "\n",
    "        sample = self.data[idx]\n",
    "        label = self.labels[idx]\n",
    "\n",
    "        if self.transform:\n",
    "            sample = self.transform(sample)\n",
    "\n",
    "        return sample, label\n",
    "\n",
    "dataset = CostumDataset(\"../data/extract_data/train\")\n",
    "print(dataset[0])"
   ],
   "metadata": {
    "collapsed": false,
    "ExecuteTime": {
     "end_time": "2023-07-24T06:30:28.451161800Z",
     "start_time": "2023-07-24T06:30:26.585612900Z"
    }
   }
  },
  {
   "cell_type": "code",
   "execution_count": 19,
   "outputs": [
    {
     "name": "stdout",
     "output_type": "stream",
     "text": [
      "训练数据集的长度为:171\n"
     ]
    }
   ],
   "source": [
    "import torch\n",
    "import torchvision\n",
    "from torch import nn\n",
    "from torch.utils.data import DataLoader\n",
    "from torch.utils.tensorboard import SummaryWriter\n",
    "from torchsummary import summary\n",
    "\n",
    "import time\n",
    "import os\n",
    "\n",
    "os.environ['TORCH_HOME'] = r'C:\\Users\\bugs_\\PycharmProjects\\eegProject\\models'\n",
    "\n",
    "device = torch.device(\"cuda\" if torch.cuda.is_available() else \"cpu\")\n",
    "\n",
    "train_data = dataset\n",
    "\n",
    "train_data_size = len(train_data)\n",
    "print(\"训练数据集的长度为:{}\".format(train_data_size))\n",
    "\n",
    "train_dataloader = DataLoader(train_data, batch_size=64)"
   ],
   "metadata": {
    "collapsed": false,
    "ExecuteTime": {
     "end_time": "2023-07-24T06:40:03.137223400Z",
     "start_time": "2023-07-24T06:40:02.988224500Z"
    }
   }
  },
  {
   "cell_type": "code",
   "execution_count": 29,
   "outputs": [
    {
     "name": "stdout",
     "output_type": "stream",
     "text": [
      "torch.Size([1, 10, 176])\n",
      "torch.Size([1, 176])\n",
      "torch.Size([1, 176])\n",
      "torch.Size([1, 176])\n",
      "torch.Size([1, 176])\n",
      "torch.Size([1, 176])\n",
      "torch.Size([1, 176])\n",
      "torch.Size([1, 176])\n",
      "torch.Size([1, 176])\n",
      "torch.Size([1, 176])\n",
      "torch.Size([1, 176])\n"
     ]
    }
   ],
   "source": [
    "input = torch.ones(1, 10, 176)\n",
    "print(input.shape)\n",
    "for i in input[0]:\n",
    "    i = torch.unsqueeze(i, 0)\n",
    "    print(i.shape)"
   ],
   "metadata": {
    "collapsed": false,
    "ExecuteTime": {
     "end_time": "2023-07-24T08:04:17.658010700Z",
     "start_time": "2023-07-24T08:04:17.651012500Z"
    }
   }
  },
  {
   "cell_type": "code",
   "execution_count": 28,
   "outputs": [
    {
     "name": "stdout",
     "output_type": "stream",
     "text": [
      "torch.Size([1, 176])\n"
     ]
    }
   ],
   "source": [
    "input = torch.ones(176)\n",
    "# input.unsqueeze(0)\n",
    "input = torch.unsqueeze(input, 0)\n",
    "print(input.shape)\n"
   ],
   "metadata": {
    "collapsed": false,
    "ExecuteTime": {
     "end_time": "2023-07-24T08:03:39.422630100Z",
     "start_time": "2023-07-24T08:03:39.405571700Z"
    }
   }
  },
  {
   "cell_type": "code",
   "execution_count": null,
   "outputs": [],
   "source": [],
   "metadata": {
    "collapsed": false
   }
  }
 ],
 "metadata": {
  "kernelspec": {
   "display_name": "Python 3",
   "language": "python",
   "name": "python3"
  },
  "language_info": {
   "codemirror_mode": {
    "name": "ipython",
    "version": 2
   },
   "file_extension": ".py",
   "mimetype": "text/x-python",
   "name": "python",
   "nbconvert_exporter": "python",
   "pygments_lexer": "ipython2",
   "version": "2.7.6"
  }
 },
 "nbformat": 4,
 "nbformat_minor": 0
}
