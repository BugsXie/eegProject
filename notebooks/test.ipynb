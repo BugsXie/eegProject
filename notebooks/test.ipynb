{
 "cells": [
  {
   "cell_type": "code",
   "execution_count": 1,
   "outputs": [],
   "source": [
    "# 定义电极区域划分，将电极名称分组到不同的区域\n",
    "electrode_regions = {'Frontal': ['Fp1', 'Fp2', 'F3', 'F4', 'F7', 'F8'],\n",
    "                     'Central': ['C3', 'C4'],\n",
    "                     'Parietal': ['P3', 'P4'],\n",
    "                     'Occipital': ['O1', 'O2'],\n",
    "                     'Temporal': ['T3', 'T4', 'T5', 'T6']}"
   ],
   "metadata": {
    "collapsed": false,
    "ExecuteTime": {
     "end_time": "2023-07-23T07:06:24.619168Z",
     "start_time": "2023-07-23T07:06:24.611188300Z"
    }
   }
  },
  {
   "cell_type": "code",
   "execution_count": 4,
   "outputs": [
    {
     "name": "stdout",
     "output_type": "stream",
     "text": [
      "train\n",
      "val\n",
      "test\n"
     ]
    }
   ],
   "source": [
    "for i in ['train', 'val', 'test']:\n",
    "    print(i)"
   ],
   "metadata": {
    "collapsed": false,
    "ExecuteTime": {
     "end_time": "2023-07-23T07:45:01.975730700Z",
     "start_time": "2023-07-23T07:45:01.966212500Z"
    }
   }
  },
  {
   "cell_type": "code",
   "execution_count": null,
   "outputs": [],
   "source": [],
   "metadata": {
    "collapsed": false
   }
  }
 ],
 "metadata": {
  "kernelspec": {
   "display_name": "Python 3",
   "language": "python",
   "name": "python3"
  },
  "language_info": {
   "codemirror_mode": {
    "name": "ipython",
    "version": 2
   },
   "file_extension": ".py",
   "mimetype": "text/x-python",
   "name": "python",
   "nbconvert_exporter": "python",
   "pygments_lexer": "ipython2",
   "version": "2.7.6"
  }
 },
 "nbformat": 4,
 "nbformat_minor": 0
}
