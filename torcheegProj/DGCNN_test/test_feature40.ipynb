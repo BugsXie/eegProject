{
 "cells": [
  {
   "cell_type": "code",
   "execution_count": 69,
   "id": "initial_id",
   "metadata": {
    "collapsed": true,
    "ExecuteTime": {
     "end_time": "2023-08-04T13:22:58.056018700Z",
     "start_time": "2023-08-04T13:22:58.041007100Z"
    }
   },
   "outputs": [],
   "source": [
    "from torcheeg import transforms\n",
    "\n",
    "transform = transforms.Compose([\n",
    "    transforms.Concatenate([\n",
    "        transforms.BandDifferentialEntropy(sampling_rate=200,\n",
    "                                           band_dict={\n",
    "                                               \"delta\": (1, 4),\n",
    "                                               \"theta\": (4, 8),\n",
    "                                               \"alpha\": (8, 13),\n",
    "                                               \"beta\": (13, 30),\n",
    "                                               \"gamma\": (30, 44)\n",
    "                                           }),\n",
    "        # transforms.BandPowerSpectralDensity(sampling_rate=200,\n",
    "        #                                     band_dict={\n",
    "        #                                         \"delta\": (1, 4),\n",
    "        #                                         \"theta\": (4, 8),\n",
    "        #                                         \"alpha\": (8, 13),\n",
    "        #                                         \"beta\": (13, 30),\n",
    "        #                                         \"gamma\": (30, 44)\n",
    "        #                                     }),\n",
    "        transforms.BandMeanAbsoluteDeviation(sampling_rate=200,\n",
    "                                             band_dict={\n",
    "                                                 \"delta\": (1, 4),\n",
    "                                                 \"theta\": (4, 8),\n",
    "                                                 \"alpha\": (8, 13),\n",
    "                                                 \"beta\": (13, 30),\n",
    "                                                 \"gamma\": (30, 44)\n",
    "                                             }),\n",
    "        # transforms.BandDetrendedFluctuationAnalysis(sampling_rate=200,\n",
    "        #                                             band_dict={\n",
    "        #                                                 \"delta\": (1, 4),\n",
    "        #                                                 \"theta\": (4, 8),\n",
    "        #                                                 \"alpha\": (8, 13),\n",
    "        #                                                 \"beta\": (13, 30),\n",
    "        #                                                 \"gamma\": (30, 44)\n",
    "        #                                             }),\n",
    "        # transforms.BandHiguchiFractalDimension(sampling_rate=200,\n",
    "        #                                        band_dict={\n",
    "        #                                            \"delta\": (1, 4),\n",
    "        #                                            \"theta\": (4, 8),\n",
    "        #                                            \"alpha\": (8, 13),\n",
    "        #                                            \"beta\": (13, 30),\n",
    "        #                                            \"gamma\": (30, 44)\n",
    "        #                                        }),\n",
    "        # transforms.BandHjorth(mode='mobility',\n",
    "        #                       band_dict={\n",
    "        #                           \"delta\": (1, 4),\n",
    "        #                           \"theta\": (4, 8),\n",
    "        #                           \"alpha\": (8, 13),\n",
    "        #                           \"beta\": (13, 30),\n",
    "        #                           \"gamma\": (30, 44)\n",
    "        #                       }),\n",
    "        transforms.BandHjorth(mode='complexity',\n",
    "                              band_dict={\n",
    "                                  \"delta\": (1, 4),\n",
    "                                  \"theta\": (4, 8),\n",
    "                                  \"alpha\": (8, 13),\n",
    "                                  \"beta\": (13, 30),\n",
    "                                  \"gamma\": (30, 44)\n",
    "                              }),\n",
    "        # transforms.BandBinPower(sampling_rate=200,\n",
    "        #                         band_dict={\n",
    "        #                             \"delta\": (1, 4),\n",
    "        #                             \"theta\": (4, 8),\n",
    "        #                             \"alpha\": (8, 13),\n",
    "        #                             \"beta\": (13, 30),\n",
    "        #                             \"gamma\": (30, 44)\n",
    "        #                         })\n",
    "    ]),\n",
    "    transforms.ToTensor()\n",
    "])"
   ]
  },
  {
   "cell_type": "code",
   "execution_count": 73,
   "outputs": [],
   "source": [
    "import scipy.io as sio\n",
    "import torch\n",
    "\n",
    "def test(data_path, model_path, feature):\n",
    "    data = sio.loadmat(data_path)\n",
    "    sample = data['EEG_ECClean']\n",
    "    result = []\n",
    "    # for i in range(120):\n",
    "    eeg_data = sample[\"data\"][0][0][:, 0:24000]\n",
    "\n",
    "    x = transform(eeg=eeg_data)['eeg']\n",
    "    x = torch.reshape(x, (1, 16, feature))\n",
    "\n",
    "    model = torch.load(model_path, map_location=torch.device('cpu'))  # gpu训练时需要映射到cpu\n",
    "\n",
    "    model.eval()\n",
    "    with torch.no_grad():\n",
    "        output = model(x)\n",
    "        result.append(output.argmax(1)[0].tolist())\n",
    "    # print(output)\n",
    "    # print(output.argmax(1))\n",
    "    return result"
   ],
   "metadata": {
    "collapsed": false,
    "ExecuteTime": {
     "end_time": "2023-08-04T13:25:41.767730200Z",
     "start_time": "2023-08-04T13:25:41.762730200Z"
    }
   },
   "id": "1e06ff7c9da51af2"
  },
  {
   "cell_type": "markdown",
   "source": [
    "# 批量测试"
   ],
   "metadata": {
    "collapsed": false
   },
   "id": "aca187d74957085a"
  },
  {
   "cell_type": "code",
   "execution_count": 84,
   "outputs": [],
   "source": [
    "import os\n",
    "\n",
    "# 设置文件夹路径和类别名称\n",
    "folders = [r'C:\\Users\\bugs_\\PycharmProjects\\eegProject\\data\\Test_EEG\\HC_All',\n",
    "           r'C:\\Users\\bugs_\\PycharmProjects\\eegProject\\data\\Test_EEG\\MDD_All',\n",
    "           r'C:\\Users\\bugs_\\PycharmProjects\\eegProject\\data\\Test_EEG\\BD_All']\n",
    "class_names = ['HC', 'MDD', 'BD']\n",
    "\n",
    "# 创建存储数据集的字典\n",
    "data_file = {'filename': []}\n",
    "\n",
    "# 遍历每个类别的文件夹\n",
    "for folder, class_name in zip(folders, class_names):\n",
    "    # 获取文件夹中的Clean.mat文件 列表\n",
    "    file_list = os.listdir(folder)\n",
    "    file_list = [os.path.join(folder, file) for file in file_list if file.endswith('Clean.mat')]\n",
    "\n",
    "    # 将数据加入到对应的数据集中\n",
    "    data_file['filename'].extend([(file, class_name) for file in file_list])"
   ],
   "metadata": {
    "collapsed": false,
    "ExecuteTime": {
     "end_time": "2023-08-04T13:36:39.273973100Z",
     "start_time": "2023-08-04T13:36:39.240972800Z"
    }
   },
   "id": "c338559ecaf49a74"
  },
  {
   "cell_type": "code",
   "execution_count": 88,
   "outputs": [
    {
     "name": "stdout",
     "output_type": "stream",
     "text": [
      "2\n",
      "2\n",
      "2\n",
      "2\n",
      "2\n",
      "2\n",
      "2\n",
      "2\n",
      "2\n",
      "1\n",
      "2\n",
      "2\n",
      "1\n",
      "2\n",
      "2\n",
      "2\n",
      "2\n",
      "2\n",
      "2\n",
      "2\n",
      "2\n",
      "2\n",
      "2\n",
      "1\n",
      "2\n",
      "2\n",
      "2\n",
      "2\n",
      "2\n",
      "2\n",
      "2\n",
      "2\n",
      "2\n",
      "2\n",
      "2\n",
      "2\n",
      "1\n",
      "2\n",
      "2\n",
      "0\n",
      "2\n",
      "2\n",
      "2\n",
      "1\n",
      "2\n",
      "2\n",
      "2\n",
      "2\n",
      "2\n",
      "2\n",
      "0\n",
      "2\n",
      "2\n",
      "2\n",
      "2\n",
      "2\n",
      "2\n",
      "2\n",
      "2\n",
      "2\n",
      "2\n",
      "1\n",
      "2\n",
      "2\n",
      "1\n",
      "2\n",
      "1\n",
      "2\n",
      "1\n"
     ]
    }
   ],
   "source": [
    "model_path = r'C:\\Users\\bugs_\\PycharmProjects\\eegProject\\torcheegProj\\DGCNN\\models\\feature15\\DGCNN_676.pth'\n",
    "label_dic = {'HC': 0, 'MDD': 1, \"BD\": 2}\n",
    "\n",
    "total = 0\n",
    "calculate = 0\n",
    "\n",
    "for sub, label in data_file['filename']:\n",
    "    if label == 'HC':\n",
    "        total += 1\n",
    "        # print(sub)\n",
    "        output = test(sub, model_path, 15)\n",
    "        maxTimes = max(output, key=output.count)\n",
    "        print(maxTimes)\n",
    "        if maxTimes == label_dic['BD']:\n",
    "            calculate += 1"
   ],
   "metadata": {
    "collapsed": false,
    "ExecuteTime": {
     "end_time": "2023-08-04T13:41:27.461404Z",
     "start_time": "2023-08-04T13:40:36.476677100Z"
    }
   },
   "id": "8c04ef8b4ac9200e"
  },
  {
   "cell_type": "code",
   "execution_count": 89,
   "outputs": [
    {
     "data": {
      "text/plain": "69"
     },
     "execution_count": 89,
     "metadata": {},
     "output_type": "execute_result"
    }
   ],
   "source": [
    "total"
   ],
   "metadata": {
    "collapsed": false,
    "ExecuteTime": {
     "end_time": "2023-08-04T15:33:17.220676300Z",
     "start_time": "2023-08-04T15:33:17.201676900Z"
    }
   },
   "id": "2c3109eee411ac4d"
  },
  {
   "cell_type": "code",
   "execution_count": 90,
   "outputs": [
    {
     "data": {
      "text/plain": "0.8405797101449275"
     },
     "execution_count": 90,
     "metadata": {},
     "output_type": "execute_result"
    }
   ],
   "source": [
    "correct = calculate / total\n",
    "correct"
   ],
   "metadata": {
    "collapsed": false,
    "ExecuteTime": {
     "end_time": "2023-08-04T15:33:22.988850600Z",
     "start_time": "2023-08-04T15:33:22.977437100Z"
    }
   },
   "id": "8f6a508ffd9b0a6e"
  },
  {
   "cell_type": "markdown",
   "source": [
    "# 单个测试"
   ],
   "metadata": {
    "collapsed": false
   },
   "id": "df8aadb40aa65f61"
  },
  {
   "cell_type": "code",
   "execution_count": 51,
   "outputs": [],
   "source": [
    "result_list = test(r'C:\\Users\\bugs_\\PycharmProjects\\eegProject\\data\\Test_EEG\\MDD_backup\\00114944_EEG_ECClean.mat',\n",
    "                   r'C:\\Users\\bugs_\\PycharmProjects\\eegProject\\torcheegProj\\DGCNN_test\\models\\DGCNN_83.pth')"
   ],
   "metadata": {
    "collapsed": false,
    "ExecuteTime": {
     "end_time": "2023-08-04T08:00:27.243752700Z",
     "start_time": "2023-08-04T08:00:15.818601600Z"
    }
   },
   "id": "61d22e1677d16e2b"
  },
  {
   "cell_type": "code",
   "execution_count": 52,
   "outputs": [
    {
     "name": "stdout",
     "output_type": "stream",
     "text": [
      "Counter({1: 118, 2: 2})\n",
      "maxTimes 1\n"
     ]
    }
   ],
   "source": [
    "from collections import Counter\n",
    "\n",
    "result = Counter(result_list)\n",
    "print(result)\n",
    "maxTimes = max(result_list, key=result_list.count)\n",
    "print('maxTimes', maxTimes)"
   ],
   "metadata": {
    "collapsed": false,
    "ExecuteTime": {
     "end_time": "2023-08-04T08:00:27.259256200Z",
     "start_time": "2023-08-04T08:00:27.244751400Z"
    }
   },
   "id": "5e3fcfbbfbbd1a78"
  },
  {
   "cell_type": "code",
   "execution_count": null,
   "outputs": [],
   "source": [],
   "metadata": {
    "collapsed": false
   },
   "id": "d2cf83467bd842f5"
  }
 ],
 "metadata": {
  "kernelspec": {
   "display_name": "Python 3",
   "language": "python",
   "name": "python3"
  },
  "language_info": {
   "codemirror_mode": {
    "name": "ipython",
    "version": 2
   },
   "file_extension": ".py",
   "mimetype": "text/x-python",
   "name": "python",
   "nbconvert_exporter": "python",
   "pygments_lexer": "ipython2",
   "version": "2.7.6"
  }
 },
 "nbformat": 4,
 "nbformat_minor": 5
}
