{
 "cells": [
  {
   "cell_type": "code",
   "execution_count": 1,
   "outputs": [],
   "source": [
    "from torcheeg import transforms\n",
    "\n",
    "transform = transforms.Compose([\n",
    "    transforms.BandDifferentialEntropy(sampling_rate=200,\n",
    "                                       band_dict={\n",
    "                                           \"delta\": (1, 4),\n",
    "                                           \"theta\": (4, 8),\n",
    "                                           \"alpha\": (8, 13),\n",
    "                                           \"beta\": (13, 30),\n",
    "                                           \"gamma\": (30, 44)\n",
    "                                       }),\n",
    "    transforms.ToTensor()\n",
    "])"
   ],
   "metadata": {
    "collapsed": false,
    "ExecuteTime": {
     "end_time": "2023-08-04T06:19:45.092141800Z",
     "start_time": "2023-08-04T06:19:42.384610100Z"
    }
   },
   "id": "98a043ad59e5bae2"
  },
  {
   "cell_type": "code",
   "execution_count": 87,
   "outputs": [],
   "source": [
    "import scipy.io as sio\n",
    "import torch\n",
    "\n",
    "\n",
    "def test(data_path, model_path):\n",
    "    data = sio.loadmat(data_path)\n",
    "    sample = data['EEG_ECClean']\n",
    "    eeg_data = sample[\"data\"][0][0][:, 2200:2400]\n",
    "\n",
    "    x = transform(eeg=eeg_data)['eeg']\n",
    "    x = torch.reshape(x, (1, 16, 5))\n",
    "\n",
    "    model = torch.load(model_path, map_location=torch.device('cpu'))  # gpu训练时需要映射到cpu\n",
    "\n",
    "    model.eval()\n",
    "    with torch.no_grad():\n",
    "        output = model(x)\n",
    "    # print(output)\n",
    "    print(output.argmax(1))\n",
    "    return output.argmax(1)[0]"
   ],
   "metadata": {
    "collapsed": false,
    "ExecuteTime": {
     "end_time": "2023-08-04T06:42:26.407451500Z",
     "start_time": "2023-08-04T06:42:26.400450900Z"
    }
   },
   "id": "9d8c92f0d36a638c"
  },
  {
   "cell_type": "code",
   "execution_count": 138,
   "outputs": [],
   "source": [
    "import scipy.io as sio\n",
    "import torch\n",
    "\n",
    "def test_v2(data_path, model_path):\n",
    "    data = sio.loadmat(data_path)\n",
    "    sample = data['EEG_ECClean']\n",
    "    result = []\n",
    "    for i in range(120):\n",
    "        eeg_data = sample[\"data\"][0][0][:, i * 200:(i + 1) * 200]\n",
    "\n",
    "        x = transform(eeg=eeg_data)['eeg']\n",
    "        x = torch.reshape(x, (1, 16, 5))\n",
    "\n",
    "        model = torch.load(model_path, map_location=torch.device('cpu'))  # gpu训练时需要映射到cpu\n",
    "\n",
    "        model.eval()\n",
    "        with torch.no_grad():\n",
    "            output = model(x)\n",
    "            result.append(output.argmax(1)[0].tolist())\n",
    "        # print(output)\n",
    "        # print(output.argmax(1))\n",
    "    return result"
   ],
   "metadata": {
    "collapsed": false,
    "ExecuteTime": {
     "end_time": "2023-08-04T07:07:26.267123700Z",
     "start_time": "2023-08-04T07:07:26.256124100Z"
    }
   },
   "id": "1d8063f6b498e345"
  },
  {
   "cell_type": "code",
   "execution_count": 173,
   "outputs": [],
   "source": [
    "result_list = test_v2(r'C:\\Users\\bugs_\\PycharmProjects\\eegProject\\data\\Test_EEG\\MDD\\00106394_EEG_ECClean.mat',\n",
    "                      r'C:\\Users\\bugs_\\PycharmProjects\\eegProject\\torcheegProj\\DGCNN_test\\models\\DE\\DGCNN_9.pth')"
   ],
   "metadata": {
    "collapsed": false,
    "ExecuteTime": {
     "end_time": "2023-08-04T07:19:52.473675700Z",
     "start_time": "2023-08-04T07:19:50.959872500Z"
    }
   },
   "id": "c620f25d967dc788"
  },
  {
   "cell_type": "code",
   "execution_count": 174,
   "outputs": [
    {
     "name": "stdout",
     "output_type": "stream",
     "text": [
      "Counter({1: 119, 0: 1})\n",
      "maxTimes 1\n"
     ]
    }
   ],
   "source": [
    "from collections import Counter\n",
    "result = Counter(result_list)\n",
    "print(result)\n",
    "maxTimes = max(result_list,key=result_list.count)\n",
    "print('maxTimes', maxTimes)"
   ],
   "metadata": {
    "collapsed": false,
    "ExecuteTime": {
     "end_time": "2023-08-04T07:19:53.096944100Z",
     "start_time": "2023-08-04T07:19:53.088955900Z"
    }
   },
   "id": "8d518200c4722dc0"
  },
  {
   "cell_type": "code",
   "execution_count": 53,
   "outputs": [],
   "source": [
    "import os\n",
    "\n",
    "# 设置文件夹路径和类别名称\n",
    "folders = [r'C:\\Users\\bugs_\\PycharmProjects\\eegProject\\data\\Test_EEG\\HC_All',\n",
    "           r'C:\\Users\\bugs_\\PycharmProjects\\eegProject\\data\\Test_EEG\\MDD_All',\n",
    "           r'C:\\Users\\bugs_\\PycharmProjects\\eegProject\\data\\Test_EEG\\BD_All']\n",
    "class_names = ['HC', 'MDD', 'BD']\n",
    "\n",
    "# 创建存储数据集的字典\n",
    "data_file = {'filename': []}\n",
    "\n",
    "# 遍历每个类别的文件夹\n",
    "for folder, class_name in zip(folders, class_names):\n",
    "    # 获取文件夹中的Clean.mat文件 列表\n",
    "    file_list = os.listdir(folder)\n",
    "    file_list = [os.path.join(folder, file) for file in file_list if file.endswith('Clean.mat')]\n",
    "\n",
    "    # 将数据加入到对应的数据集中\n",
    "    data_file['filename'].extend([(file, class_name) for file in file_list])"
   ],
   "metadata": {
    "collapsed": false,
    "ExecuteTime": {
     "end_time": "2023-08-04T06:36:28.540186800Z",
     "start_time": "2023-08-04T06:36:28.530348900Z"
    }
   },
   "id": "334ca4cadfff5880"
  },
  {
   "cell_type": "code",
   "execution_count": 66,
   "outputs": [
    {
     "name": "stdout",
     "output_type": "stream",
     "text": [
      "tensor([2])\n",
      "tensor([2])\n",
      "tensor([2])\n",
      "tensor([2])\n",
      "tensor([2])\n",
      "tensor([2])\n",
      "tensor([2])\n",
      "tensor([2])\n",
      "tensor([2])\n",
      "tensor([2])\n",
      "tensor([2])\n",
      "tensor([2])\n",
      "tensor([2])\n",
      "tensor([2])\n",
      "tensor([2])\n",
      "tensor([2])\n",
      "tensor([2])\n",
      "tensor([2])\n",
      "tensor([2])\n",
      "tensor([2])\n",
      "tensor([2])\n",
      "tensor([2])\n",
      "tensor([2])\n",
      "tensor([2])\n",
      "tensor([2])\n",
      "tensor([2])\n",
      "tensor([2])\n",
      "tensor([2])\n",
      "tensor([1])\n",
      "tensor([0])\n",
      "tensor([1])\n",
      "tensor([2])\n",
      "tensor([2])\n",
      "tensor([2])\n",
      "tensor([2])\n",
      "tensor([1])\n",
      "tensor([1])\n",
      "tensor([2])\n",
      "tensor([1])\n",
      "tensor([0])\n",
      "tensor([0])\n",
      "tensor([1])\n",
      "tensor([2])\n",
      "tensor([2])\n",
      "tensor([2])\n",
      "tensor([1])\n",
      "tensor([1])\n",
      "tensor([0])\n",
      "tensor([0])\n",
      "tensor([2])\n",
      "tensor([2])\n",
      "tensor([1])\n",
      "tensor([0])\n",
      "tensor([2])\n",
      "tensor([2])\n",
      "tensor([1])\n",
      "tensor([1])\n",
      "tensor([2])\n",
      "tensor([2])\n",
      "tensor([2])\n",
      "tensor([2])\n",
      "tensor([1])\n",
      "tensor([1])\n",
      "tensor([2])\n",
      "tensor([2])\n",
      "tensor([2])\n",
      "tensor([2])\n",
      "tensor([2])\n",
      "tensor([2])\n"
     ]
    }
   ],
   "source": [
    "model_path = r'C:\\Users\\bugs_\\PycharmProjects\\eegProject\\torcheegProj\\DGCNN_test\\models\\DE\\DGCNN_8.pth'\n",
    "label_dic = {'HC': 0, 'MDD': 1, \"BD\": 2}\n",
    "\n",
    "total = 0\n",
    "calculate = 0\n",
    "\n",
    "for sub, label in data_file['filename']:\n",
    "    if label == 'BD':\n",
    "        total += 1\n",
    "        # print(sub)\n",
    "        output = test(sub, model_path)\n",
    "        if output == label_dic['BD']:\n",
    "            calculate += 1"
   ],
   "metadata": {
    "collapsed": false,
    "ExecuteTime": {
     "end_time": "2023-08-04T06:38:49.416326Z",
     "start_time": "2023-08-04T06:38:47.685602Z"
    }
   },
   "id": "2f1bb96be8b2c3ac"
  },
  {
   "cell_type": "code",
   "execution_count": 67,
   "outputs": [
    {
     "data": {
      "text/plain": "0.7246376811594203"
     },
     "execution_count": 67,
     "metadata": {},
     "output_type": "execute_result"
    }
   ],
   "source": [
    "calculate / total"
   ],
   "metadata": {
    "collapsed": false,
    "ExecuteTime": {
     "end_time": "2023-08-04T06:38:50.484005200Z",
     "start_time": "2023-08-04T06:38:50.469996400Z"
    }
   },
   "id": "1bae5b48f10b4793"
  },
  {
   "cell_type": "code",
   "execution_count": 22,
   "outputs": [],
   "source": [
    "import numpy as np\n",
    "\n",
    "if output[0] == 2:\n",
    "    print(1)"
   ],
   "metadata": {
    "collapsed": false,
    "ExecuteTime": {
     "end_time": "2023-08-04T06:25:55.107291Z",
     "start_time": "2023-08-04T06:25:55.090898800Z"
    }
   },
   "id": "4ecb072ee0fd116c"
  },
  {
   "cell_type": "code",
   "execution_count": null,
   "outputs": [],
   "source": [],
   "metadata": {
    "collapsed": false
   },
   "id": "2b280fcfeae1ee2f"
  }
 ],
 "metadata": {
  "kernelspec": {
   "display_name": "Python 3",
   "language": "python",
   "name": "python3"
  },
  "language_info": {
   "codemirror_mode": {
    "name": "ipython",
    "version": 2
   },
   "file_extension": ".py",
   "mimetype": "text/x-python",
   "name": "python",
   "nbconvert_exporter": "python",
   "pygments_lexer": "ipython2",
   "version": "2.7.6"
  }
 },
 "nbformat": 4,
 "nbformat_minor": 5
}
