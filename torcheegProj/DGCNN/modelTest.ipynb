{
 "cells": [
  {
   "cell_type": "code",
   "execution_count": 1,
   "outputs": [],
   "source": [
    "from torcheeg import transforms\n",
    "\n",
    "transform = transforms.Compose([\n",
    "    transforms.Concatenate([\n",
    "        transforms.BandDifferentialEntropy(sampling_rate=200,\n",
    "                                           band_dict={\n",
    "                                               \"delta\": (1, 4),\n",
    "                                               \"theta\": (4, 8),\n",
    "                                               \"alpha\": (8, 13),\n",
    "                                               \"beta\": (13, 30),\n",
    "                                               \"gamma\": (30, 44)\n",
    "                                           }),\n",
    "        transforms.BandPowerSpectralDensity(sampling_rate=200,\n",
    "                                            band_dict={\n",
    "                                                \"delta\": (1, 4),\n",
    "                                                \"theta\": (4, 8),\n",
    "                                                \"alpha\": (8, 13),\n",
    "                                                \"beta\": (13, 30),\n",
    "                                                \"gamma\": (30, 44)\n",
    "                                            }),\n",
    "        transforms.BandMeanAbsoluteDeviation(sampling_rate=200,\n",
    "                                             band_dict={\n",
    "                                                 \"delta\": (1, 4),\n",
    "                                                 \"theta\": (4, 8),\n",
    "                                                 \"alpha\": (8, 13),\n",
    "                                                 \"beta\": (13, 30),\n",
    "                                                 \"gamma\": (30, 44)\n",
    "                                             }),\n",
    "        transforms.BandDetrendedFluctuationAnalysis(sampling_rate=200,\n",
    "                                                    band_dict={\n",
    "                                                        \"delta\": (1, 4),\n",
    "                                                        \"theta\": (4, 8),\n",
    "                                                        \"alpha\": (8, 13),\n",
    "                                                        \"beta\": (13, 30),\n",
    "                                                        \"gamma\": (30, 44)\n",
    "                                                    }),\n",
    "        transforms.BandHiguchiFractalDimension(sampling_rate=200,\n",
    "                                               band_dict={\n",
    "                                                   \"delta\": (1, 4),\n",
    "                                                   \"theta\": (4, 8),\n",
    "                                                   \"alpha\": (8, 13),\n",
    "                                                   \"beta\": (13, 30),\n",
    "                                                   \"gamma\": (30, 44)\n",
    "                                               }),\n",
    "        transforms.BandHjorth(mode='mobility',\n",
    "                              band_dict={\n",
    "                                  \"delta\": (1, 4),\n",
    "                                  \"theta\": (4, 8),\n",
    "                                  \"alpha\": (8, 13),\n",
    "                                  \"beta\": (13, 30),\n",
    "                                  \"gamma\": (30, 44)\n",
    "                              }),\n",
    "        transforms.BandHjorth(mode='complexity',\n",
    "                              band_dict={\n",
    "                                  \"delta\": (1, 4),\n",
    "                                  \"theta\": (4, 8),\n",
    "                                  \"alpha\": (8, 13),\n",
    "                                  \"beta\": (13, 30),\n",
    "                                  \"gamma\": (30, 44)\n",
    "                              }),\n",
    "        transforms.BandBinPower(sampling_rate=200,\n",
    "                                band_dict={\n",
    "                                    \"delta\": (1, 4),\n",
    "                                    \"theta\": (4, 8),\n",
    "                                    \"alpha\": (8, 13),\n",
    "                                    \"beta\": (13, 30),\n",
    "                                    \"gamma\": (30, 44)\n",
    "                                })\n",
    "    ]),\n",
    "    transforms.MinMaxNormalize(),\n",
    "    transforms.ToTensor()\n",
    "])"
   ],
   "metadata": {
    "collapsed": false,
    "ExecuteTime": {
     "end_time": "2023-08-15T04:59:00.384003400Z",
     "start_time": "2023-08-15T04:58:56.606637700Z"
    }
   },
   "id": "98a043ad59e5bae2"
  },
  {
   "cell_type": "code",
   "execution_count": 2,
   "outputs": [],
   "source": [
    "import scipy.io as sio\n",
    "import torch\n",
    "\n",
    "\n",
    "def test(data_path, model_path):\n",
    "    data = sio.loadmat(data_path)\n",
    "    sample = data['EEG_ECClean']\n",
    "    result = []\n",
    "    for i in range(12):\n",
    "        eeg_data = sample[\"data\"][0][0][:, i * 2000:(i + 1) * 2000]\n",
    "\n",
    "        x = transform(eeg=eeg_data)['eeg']\n",
    "        x = torch.reshape(x, (1, 16, 40))\n",
    "\n",
    "        model = torch.load(model_path, map_location=torch.device('cpu'))  # gpu训练时需要映射到cpu\n",
    "\n",
    "        model.eval()\n",
    "        with torch.no_grad():\n",
    "            output = model(x)\n",
    "            result.append(output.argmax(1)[0].tolist())\n",
    "    return result\n",
    "\n",
    "# def test(data_path, model_path):\n",
    "#     data = sio.loadmat(data_path)\n",
    "#     sample = data['EEG_ECClean']\n",
    "#     result = []\n",
    "#     eeg_data = sample[\"data\"][0][0][:, 0:24000]\n",
    "# \n",
    "#     x = transform(eeg=eeg_data)['eeg']\n",
    "#     x = torch.reshape(x, (1, 16, 40))\n",
    "# \n",
    "#     model = torch.load(model_path, map_location=torch.device('cpu'))  # gpu训练时需要映射到cpu\n",
    "# \n",
    "#     model.eval()\n",
    "#     with torch.no_grad():\n",
    "#         output = model(x)\n",
    "#         result.append(output.argmax(1)[0].tolist())\n",
    "#     return result"
   ],
   "metadata": {
    "collapsed": false,
    "ExecuteTime": {
     "end_time": "2023-08-15T04:59:18.264179500Z",
     "start_time": "2023-08-15T04:59:18.212902500Z"
    }
   },
   "id": "1d8063f6b498e345"
  },
  {
   "cell_type": "markdown",
   "source": [
    "# 批量测试"
   ],
   "metadata": {
    "collapsed": false
   },
   "id": "2a9db5e525984c72"
  },
  {
   "cell_type": "code",
   "execution_count": 3,
   "outputs": [],
   "source": [
    "import os\n",
    "\n",
    "# 设置文件夹路径和类别名称\n",
    "folders = [r'C:\\Users\\bugs_\\PycharmProjects\\eegProject\\data\\Test_EEG\\HC_backup\\BadSub',\n",
    "           r'C:\\Users\\bugs_\\PycharmProjects\\eegProject\\data\\Test_EEG\\MDD_backup',\n",
    "           r'C:\\Users\\bugs_\\PycharmProjects\\eegProject\\data\\Test_EEG\\BD_backup']\n",
    "class_names = ['HC', 'MDD', 'BD']\n",
    "\n",
    "# 创建存储数据集的字典\n",
    "data_file = {'filename': []}\n",
    "\n",
    "# 遍历每个类别的文件夹\n",
    "for folder, class_name in zip(folders, class_names):\n",
    "    # 获取文件夹中的Clean.mat文件 列表\n",
    "    file_list = os.listdir(folder)\n",
    "    file_list = [os.path.join(folder, file) for file in file_list if file.endswith('Clean.mat')]\n",
    "\n",
    "    # 将数据加入到对应的数据集中\n",
    "    data_file['filename'].extend([(file, class_name) for file in file_list])"
   ],
   "metadata": {
    "collapsed": false,
    "ExecuteTime": {
     "end_time": "2023-08-15T04:59:22.321359Z",
     "start_time": "2023-08-15T04:59:22.296348300Z"
    }
   },
   "id": "c620f25d967dc788"
  },
  {
   "cell_type": "code",
   "execution_count": 7,
   "outputs": [
    {
     "name": "stdout",
     "output_type": "stream",
     "text": [
      "2\n",
      "2\n",
      "0\n",
      "1\n",
      "2\n",
      "2\n",
      "2\n",
      "2\n",
      "1\n",
      "2\n",
      "1\n",
      "1\n",
      "2\n",
      "1\n",
      "2\n",
      "2\n",
      "1\n",
      "1\n",
      "1\n",
      "1\n",
      "2\n",
      "2\n",
      "1\n",
      "1\n",
      "1\n",
      "1\n",
      "0\n",
      "0\n",
      "2\n",
      "2\n",
      "2\n",
      "2\n",
      "1\n",
      "1\n",
      "1\n",
      "2\n",
      "2\n",
      "1\n",
      "2\n",
      "1\n",
      "2\n",
      "1\n",
      "1\n",
      "1\n",
      "1\n",
      "1\n",
      "1\n",
      "2\n",
      "1\n",
      "2\n",
      "1\n",
      "2\n",
      "1\n",
      "2\n",
      "2\n",
      "0\n",
      "2\n",
      "1\n",
      "1\n",
      "2\n",
      "1\n",
      "1\n",
      "2\n",
      "0\n",
      "0\n",
      "0\n",
      "1\n",
      "0\n",
      "2\n",
      "1\n",
      "0\n",
      "0\n",
      "1\n",
      "0\n",
      "0\n",
      "0\n",
      "1\n",
      "0\n",
      "2\n",
      "0\n",
      "0\n",
      "1\n",
      "1\n",
      "2\n",
      "1\n",
      "2\n"
     ]
    }
   ],
   "source": [
    "model_path = r'C:\\Users\\bugs_\\PycharmProjects\\eegProject\\torcheegProj\\DGCNN\\models\\dataAug12_feature40_MinMaxNorm_DGCNN16_2_shuffle111_batch64_epoch1000_lr5e-4\\DGCNN_16_2_999.pth'\n",
    "label_dic = {'HC': 0, 'MDD': 1, \"BD\": 2}\n",
    "\n",
    "total = 0\n",
    "calculate = 0\n",
    "\n",
    "for sub, label in data_file['filename']:\n",
    "    if label == 'MDD':\n",
    "        total += 1\n",
    "        # print(sub)\n",
    "        output = test(sub, model_path)\n",
    "        maxTimes = max(output, key=output.count)\n",
    "        print(maxTimes)\n",
    "        if maxTimes == label_dic['MDD']:\n",
    "            calculate += 1"
   ],
   "metadata": {
    "collapsed": false,
    "ExecuteTime": {
     "end_time": "2023-08-15T05:17:40.224134Z",
     "start_time": "2023-08-15T05:01:12.649911200Z"
    }
   },
   "id": "8d518200c4722dc0"
  },
  {
   "cell_type": "code",
   "execution_count": 8,
   "outputs": [
    {
     "data": {
      "text/plain": "86"
     },
     "execution_count": 8,
     "metadata": {},
     "output_type": "execute_result"
    }
   ],
   "source": [
    "total"
   ],
   "metadata": {
    "collapsed": false,
    "ExecuteTime": {
     "end_time": "2023-08-15T05:17:40.267012Z",
     "start_time": "2023-08-15T05:17:40.223133300Z"
    }
   },
   "id": "334ca4cadfff5880"
  },
  {
   "cell_type": "code",
   "execution_count": 9,
   "outputs": [
    {
     "data": {
      "text/plain": "0.4418604651162791"
     },
     "execution_count": 9,
     "metadata": {},
     "output_type": "execute_result"
    }
   ],
   "source": [
    "correct = calculate / total\n",
    "correct"
   ],
   "metadata": {
    "collapsed": false,
    "ExecuteTime": {
     "end_time": "2023-08-15T05:17:40.272012900Z",
     "start_time": "2023-08-15T05:17:40.238856200Z"
    }
   },
   "id": "2b280fcfeae1ee2f"
  },
  {
   "cell_type": "markdown",
   "source": [
    "# 单个测试"
   ],
   "metadata": {
    "collapsed": false
   },
   "id": "f6d8818d3fc39a70"
  },
  {
   "cell_type": "code",
   "execution_count": 5,
   "outputs": [],
   "source": [
    "result_list = test(r'C:\\Users\\bugs_\\PycharmProjects\\eegProject\\data\\Test_EEG\\HC\\X20211029yinqichuan_EEG_ECClean.mat',\n",
    "                   r'C:\\Users\\bugs_\\PycharmProjects\\eegProject\\torcheegProj\\DGCNN\\models\\origin\\DGCNN_16_2_137.pth')"
   ],
   "metadata": {
    "collapsed": false,
    "ExecuteTime": {
     "end_time": "2023-08-12T01:39:52.200842900Z",
     "start_time": "2023-08-12T01:39:46.777622100Z"
    }
   },
   "id": "4819fbf49bb64007"
  },
  {
   "cell_type": "code",
   "execution_count": 6,
   "outputs": [
    {
     "name": "stdout",
     "output_type": "stream",
     "text": [
      "Counter({0: 1})\n",
      "maxTimes 0\n"
     ]
    }
   ],
   "source": [
    "from collections import Counter\n",
    "\n",
    "result = Counter(result_list)\n",
    "print(result)\n",
    "maxTimes = max(result_list, key=result_list.count)\n",
    "print('maxTimes', maxTimes)"
   ],
   "metadata": {
    "collapsed": false,
    "ExecuteTime": {
     "end_time": "2023-08-12T01:39:52.944967900Z",
     "start_time": "2023-08-12T01:39:52.924966600Z"
    }
   },
   "id": "779d75b895ef1386"
  },
  {
   "cell_type": "code",
   "execution_count": null,
   "outputs": [],
   "source": [],
   "metadata": {
    "collapsed": false
   },
   "id": "9dc5326ef1b6ac74"
  }
 ],
 "metadata": {
  "kernelspec": {
   "display_name": "Python 3",
   "language": "python",
   "name": "python3"
  },
  "language_info": {
   "codemirror_mode": {
    "name": "ipython",
    "version": 2
   },
   "file_extension": ".py",
   "mimetype": "text/x-python",
   "name": "python",
   "nbconvert_exporter": "python",
   "pygments_lexer": "ipython2",
   "version": "2.7.6"
  }
 },
 "nbformat": 4,
 "nbformat_minor": 5
}
