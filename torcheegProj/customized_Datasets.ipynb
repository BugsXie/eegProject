{
 "cells": [
  {
   "cell_type": "code",
   "execution_count": 2,
   "metadata": {
    "collapsed": true,
    "ExecuteTime": {
     "end_time": "2023-07-24T09:13:33.449733800Z",
     "start_time": "2023-07-24T09:13:33.440734500Z"
    }
   },
   "outputs": [
    {
     "data": {
      "text/plain": "(100, 32, 128)"
     },
     "execution_count": 2,
     "metadata": {},
     "output_type": "execute_result"
    }
   ],
   "source": [
    "from torcheeg import transforms\n",
    "from torcheeg.datasets import NumpyDataset\n",
    "import numpy as np\n",
    "\n",
    "# Mock 100 EEG samples. Each EEG signal contains a signal of length 1 s at a sampling rate of 128 sampled by 32 electrodes.\n",
    "X = np.random.randn(100, 32, 128)\n",
    "X.shape"
   ]
  },
  {
   "cell_type": "code",
   "execution_count": 6,
   "outputs": [
    {
     "data": {
      "text/plain": "array([7, 2, 9, 7, 7, 0, 9, 1, 9, 9, 8, 2, 4, 6, 1, 9, 0, 2, 9, 7, 1, 8,\n       6, 6, 2, 5, 9, 9, 7, 7, 6, 1, 9, 9, 7, 9, 3, 7, 2, 0, 6, 5, 6, 3,\n       6, 3, 5, 8, 9, 9, 7, 9, 4, 3, 4, 0, 8, 4, 2, 2, 4, 5, 9, 8, 3, 8,\n       1, 7, 1, 0, 7, 2, 8, 2, 9, 3, 4, 8, 1, 2, 3, 5, 5, 5, 1, 8, 1, 3,\n       4, 6, 5, 0, 5, 2, 1, 0, 3, 6, 9, 9])"
     },
     "execution_count": 6,
     "metadata": {},
     "output_type": "execute_result"
    }
   ],
   "source": [
    "# Mock 100 labels, denoting valence and arousal of subjects during EEG recording.\n",
    "y = {\n",
    "    'valence': np.random.randint(10, size=100),\n",
    "    'arousal': np.random.randint(10, size=100)\n",
    "}\n",
    "y['arousal']"
   ],
   "metadata": {
    "collapsed": false,
    "ExecuteTime": {
     "end_time": "2023-07-24T09:15:26.019525500Z",
     "start_time": "2023-07-24T09:15:26.002527400Z"
    }
   }
  },
  {
   "cell_type": "code",
   "execution_count": 7,
   "outputs": [
    {
     "name": "stderr",
     "output_type": "stream",
     "text": [
      "[NUMPY]: 100%|██████████| 2/2 [00:06<00:00,  3.14s/it]"
     ]
    },
    {
     "name": "stdout",
     "output_type": "stream",
     "text": [
      "Please wait for the writing process to complete...\n",
      "(tensor([[0.9977, 1.0947, 1.5477, 1.6099],\n",
      "        [0.7360, 1.0672, 1.5667, 1.5554],\n",
      "        [1.1181, 1.3062, 1.5068, 1.6172],\n",
      "        [0.9989, 0.9548, 1.4552, 1.6272],\n",
      "        [0.9546, 1.3517, 1.6392, 1.5390],\n",
      "        [0.9426, 1.3396, 1.5470, 1.6258],\n",
      "        [0.0276, 1.0254, 1.5488, 1.5520],\n",
      "        [0.8091, 1.0522, 1.4938, 1.4019],\n",
      "        [0.9161, 1.2366, 1.4505, 1.5125],\n",
      "        [0.6656, 0.5364, 1.5305, 1.5900],\n",
      "        [0.6386, 1.2520, 1.4476, 1.5505],\n",
      "        [0.8092, 0.9804, 1.4645, 1.5617],\n",
      "        [0.7415, 1.1631, 1.5099, 1.4905],\n",
      "        [0.8775, 1.1523, 1.6474, 1.5894],\n",
      "        [1.0858, 1.3291, 1.6614, 1.6697],\n",
      "        [0.6647, 0.8383, 1.5668, 1.6706],\n",
      "        [0.8262, 1.0731, 1.6153, 1.6386],\n",
      "        [1.1335, 1.2174, 1.5927, 1.5181],\n",
      "        [0.9449, 1.1123, 1.5764, 1.4768],\n",
      "        [0.9190, 1.3252, 1.5612, 1.5460],\n",
      "        [1.1367, 1.2181, 1.5484, 1.5296],\n",
      "        [1.1622, 1.1012, 1.4263, 1.5645],\n",
      "        [1.0555, 1.3531, 1.6119, 1.5809],\n",
      "        [1.2947, 1.2396, 1.4650, 1.5714],\n",
      "        [0.6140, 1.0095, 1.5759, 1.6306],\n",
      "        [0.6292, 0.8316, 1.5563, 1.5863],\n",
      "        [0.8555, 1.0562, 1.5227, 1.5380],\n",
      "        [0.9624, 1.3381, 1.5286, 1.4875],\n",
      "        [0.7562, 1.1174, 1.6917, 1.5844],\n",
      "        [1.1821, 0.9990, 1.4399, 1.5451],\n",
      "        [0.6965, 0.9483, 1.5428, 1.7223],\n",
      "        [0.7780, 0.5555, 1.4895, 1.5176]]), 0)\n"
     ]
    },
    {
     "name": "stderr",
     "output_type": "stream",
     "text": [
      "\n"
     ]
    }
   ],
   "source": [
    "dataset = NumpyDataset(X=X,\n",
    "                       y=y,\n",
    "                       offline_transform=transforms.Compose(\n",
    "                           [transforms.BandDifferentialEntropy()]),\n",
    "                       online_transform=transforms.ToTensor(),\n",
    "                       label_transform=transforms.Compose([\n",
    "                           transforms.Select('valence'),\n",
    "                           transforms.Binary(5.0),\n",
    "                       ]),\n",
    "                       num_worker=2,\n",
    "                       num_samples_per_worker=50)\n",
    "print(dataset[0])\n",
    "# EEG signal (torch.Tensor[32, 4]),\n",
    "# coresponding baseline signal (torch.Tensor[32, 4]),\n",
    "# label (int)"
   ],
   "metadata": {
    "collapsed": false,
    "ExecuteTime": {
     "end_time": "2023-07-24T09:16:55.059245300Z",
     "start_time": "2023-07-24T09:16:48.715437600Z"
    }
   }
  },
  {
   "cell_type": "code",
   "execution_count": null,
   "outputs": [],
   "source": [],
   "metadata": {
    "collapsed": false
   }
  }
 ],
 "metadata": {
  "kernelspec": {
   "display_name": "Python 3",
   "language": "python",
   "name": "python3"
  },
  "language_info": {
   "codemirror_mode": {
    "name": "ipython",
    "version": 2
   },
   "file_extension": ".py",
   "mimetype": "text/x-python",
   "name": "python",
   "nbconvert_exporter": "python",
   "pygments_lexer": "ipython2",
   "version": "2.7.6"
  }
 },
 "nbformat": 4,
 "nbformat_minor": 0
}
